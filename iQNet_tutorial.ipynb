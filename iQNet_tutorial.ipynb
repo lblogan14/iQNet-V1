{
  "nbformat": 4,
  "nbformat_minor": 0,
  "metadata": {
    "colab": {
      "name": "iQNet_tutorial.ipynb",
      "provenance": [],
      "collapsed_sections": []
    },
    "kernelspec": {
      "name": "python3",
      "display_name": "Python 3"
    }
  },
  "cells": [
    {
      "cell_type": "markdown",
      "metadata": {
        "id": "ODqxbmuxzCo9"
      },
      "source": [
        "This ipython notebook is used for iQNet tutorial. Please email Bin Liu (bliu8@ncsu.edu) if you have any question about this script. "
      ]
    },
    {
      "cell_type": "markdown",
      "metadata": {
        "id": "itkGGtco0hb3"
      },
      "source": [
        "#Dependencies and Pre-requisites\n",
        "The iQNet is built on Tensorflow 2.0"
      ]
    },
    {
      "cell_type": "code",
      "metadata": {
        "id": "oNNwVi763cIw"
      },
      "source": [
        "import numpy as np\n",
        "from sklearn.externals.joblib import dump, load\n",
        "\n",
        "from __future__ import absolute_import\n",
        "from __future__ import division\n",
        "from __future__ import print_function\n",
        "\n",
        "import tensorflow.compat.v2 as tf\n",
        "import tensorflow.keras as tfk\n",
        "tf.enable_v2_behavior()\n",
        "from keras.layers import Activation, Dense, Input\n",
        "from keras.models import Sequential, Model\n",
        "from keras import backend as K\n",
        "from keras.models import load_model\n",
        "from keras.utils import plot_model\n",
        "from scipy.signal import medfilt"
      ],
      "execution_count": null,
      "outputs": []
    },
    {
      "cell_type": "markdown",
      "metadata": {
        "id": "hzAPdu4Fz15E"
      },
      "source": [
        "#Data Preprocessing\n",
        "The iQNet is used to predict quasar continua within the rest-frame wavelength range [1180, 1600] Angstroms with spatial resolution of 0.05 Angstrom/pixel. Thus, please make sure you transfer the input spectra into rest frame and then bin them appropriately. The input has to be 2D Numpy array, where the rows represent the number of spectra and the columns are the number of pixels per spectrum."
      ]
    },
    {
      "cell_type": "code",
      "metadata": {
        "id": "DMAgz8pry1sQ",
        "colab": {
          "base_uri": "https://localhost:8080/",
          "height": 35
        },
        "outputId": "80990441-507e-4295-d3ab-4fa502ac4de9"
      },
      "source": [
        "wave = np.arange(1180, 1600, 0.05)\n",
        "wave.shape"
      ],
      "execution_count": null,
      "outputs": [
        {
          "output_type": "execute_result",
          "data": {
            "text/plain": [
              "(11600,)"
            ]
          },
          "metadata": {
            "tags": []
          },
          "execution_count": 2
        }
      ]
    },
    {
      "cell_type": "markdown",
      "metadata": {
        "id": "kqaXPFtw4oXL"
      },
      "source": [
        "The iQNet only takes redward spectra of Lya peak so make sure to feed the correct input spectra. You can also custom this for your own project, however you need to use redward spectra of Lya emission as model input."
      ]
    },
    {
      "cell_type": "code",
      "metadata": {
        "id": "4FbeR8EK4zf-"
      },
      "source": [
        "# index to split red/blue sides\n",
        "split_idx = np.where(wave<1216)[0][-1]"
      ],
      "execution_count": null,
      "outputs": []
    },
    {
      "cell_type": "code",
      "metadata": {
        "id": "UzzL9e825J1J"
      },
      "source": [
        "your_red_spectra = your_spectra[:, :split_idx]"
      ],
      "execution_count": null,
      "outputs": []
    },
    {
      "cell_type": "markdown",
      "metadata": {
        "id": "vnkFbzLYvK6J"
      },
      "source": [
        "Note: Please normalize your input spectra around 1280 Angstrom at rest-frame wavelength as this is one of the pre-processing requirement for iQNet-V1 because it is trained with all training spectra normalized at ~1280 Angstrom in rest frame."
      ]
    },
    {
      "cell_type": "markdown",
      "metadata": {
        "id": "5Uh0fnOi6K2r"
      },
      "source": [
        "#iQNet Prediction"
      ]
    },
    {
      "cell_type": "markdown",
      "metadata": {
        "id": "PMEIC_ueuq8a"
      },
      "source": [
        "Initialize the iQNet model"
      ]
    },
    {
      "cell_type": "code",
      "metadata": {
        "id": "XrfehPD7uvZ-"
      },
      "source": [
        "from model.iqnet_setup import iqnet_model, load_iqnet_weights"
      ],
      "execution_count": null,
      "outputs": []
    },
    {
      "cell_type": "code",
      "metadata": {
        "id": "QkshPuKevrqZ"
      },
      "source": [
        "iqnet_main, iqnet_encoder, iqnet_decoder = iqnet_model(your_red_spectra.shape[-1], # input dimension\n",
        "                                                       your_spectra.shape[-1]) # output dimension"
      ],
      "execution_count": null,
      "outputs": []
    },
    {
      "cell_type": "markdown",
      "metadata": {
        "id": "FbWj8HjO6tDC"
      },
      "source": [
        "Now it's time to load the iQNet weights. There are two available trained models, one trained with HST Cosmic Origin Spectrograph QSO spectra, and the other one trained with HST + SDSS QSO spectra. You can try either model and just specify the keyword name when you initialize and load the model weigths. The keyword 'hst' is reserved for iQNet-V1 trained with HST spectra, and 'hst+sdss' is for iQNet-V1 trained with HST and SDSS spectra.\n",
        "\n"
      ]
    },
    {
      "cell_type": "code",
      "metadata": {
        "id": "Xh-jghwx6uhk"
      },
      "source": [
        "load_iqnet_weights(iqnet_main, name='hst+sdss')"
      ],
      "execution_count": null,
      "outputs": []
    },
    {
      "cell_type": "markdown",
      "metadata": {
        "id": "g11VYY5X7Km_"
      },
      "source": [
        "If no error exists, please proceed to use iQNet for continuum prediction as follows:"
      ]
    },
    {
      "cell_type": "code",
      "metadata": {
        "id": "ytTA5vp47SMx"
      },
      "source": [
        "iqnet_out = iqnet_main.predict(your_input_to_iqnet)\n",
        "\n",
        "# Median filter may not be used on your decision\n",
        "iqnet_pred_mf = np.array([medfilt(i, 49) for i in iqnet_pred])"
      ],
      "execution_count": null,
      "outputs": []
    },
    {
      "cell_type": "markdown",
      "metadata": {
        "id": "Cqm_G6XWqD8G"
      },
      "source": [
        "You may notice the predicted continua are different from those two provided models. This is because they are trained with different training spectra. While model structures affect the predictions to some extent, the key factor that influence the predicted continua are the training spectra. For better accuracy and precision, you may need to retrain the model further to adapt to your own dataset. This will reduce the effect of out-of-distribution predictions.\n",
        "\n",
        "The idea of iQNet-V1 is to help scientists quickly set up a deep learning neural network (DNN) model without going into details. Our easy-to-go setup pipeline helps people who do not have deep learning background to build a DNN model quickly."
      ]
    }
  ]
}